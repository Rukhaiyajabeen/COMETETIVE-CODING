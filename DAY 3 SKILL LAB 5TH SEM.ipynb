{
 "cells": [
  {
   "cell_type": "markdown",
   "id": "356d78bc",
   "metadata": {},
   "source": [
    "LEETCODE PROBLEM NUMBER \"67\" ADD BINARY"
   ]
  },
  {
   "cell_type": "code",
   "execution_count": 2,
   "id": "46567edd",
   "metadata": {
    "scrolled": true
   },
   "outputs": [
    {
     "name": "stdout",
     "output_type": "stream",
     "text": [
      "3\n"
     ]
    }
   ],
   "source": [
    "a = \"11\"\n",
    "b = int(a,2) #binary to integer\n",
    "print(b)"
   ]
  },
  {
   "cell_type": "code",
   "execution_count": 3,
   "id": "d62e3c92",
   "metadata": {},
   "outputs": [
    {
     "name": "stdout",
     "output_type": "stream",
     "text": [
      "1\n"
     ]
    }
   ],
   "source": [
    "c = \"1\"\n",
    "d = int(c,2)\n",
    "print(d)"
   ]
  },
  {
   "cell_type": "code",
   "execution_count": 4,
   "id": "ca8112d1",
   "metadata": {},
   "outputs": [
    {
     "data": {
      "text/plain": [
       "'0b100'"
      ]
     },
     "execution_count": 4,
     "metadata": {},
     "output_type": "execute_result"
    }
   ],
   "source": [
    "bin(b+d)[2:]"
   ]
  },
  {
   "cell_type": "code",
   "execution_count": 5,
   "id": "2ce628f6",
   "metadata": {},
   "outputs": [],
   "source": [
    "class Solution:\n",
    "  def addBinary(self, a: str, b: str) -> str:\n",
    "    return bin(int(a,2)+int(b,2))[2:]"
   ]
  },
  {
   "cell_type": "markdown",
   "id": "660fb1cc",
   "metadata": {},
   "source": [
    "DIFFERENCE BETWEEN GIVEN POINTS"
   ]
  },
  {
   "cell_type": "code",
   "execution_count": 6,
   "id": "caf91f18",
   "metadata": {},
   "outputs": [
    {
     "name": "stdout",
     "output_type": "stream",
     "text": [
      "The distance is:3.2\n",
      "The distance is:2.2\n",
      "The distance is:5.4\n"
     ]
    }
   ],
   "source": [
    "import math\n",
    "x1,y1=1,1\n",
    "x2,y2=2,4\n",
    "x3,y3=3,6\n",
    "def calc_dist(x1,y1,x2,y2):\n",
    "    return math.sqrt((x2-x1)**2+(y2-y1)**2)\n",
    "d1=calc_dist(x1,y1,x2,y2)\n",
    "d2=calc_dist(x2,y2,x3,y3)\n",
    "d3=calc_dist(x1,y1,x3,y3)\n",
    "print(f\"The distance is:{d1:.1f}\")\n",
    "print(f\"The distance is:{d2:.1f}\")\n",
    "print(f\"The distance is:{d3:.1f}\")\n"
   ]
  },
  {
   "cell_type": "markdown",
   "id": "ee64e7e7",
   "metadata": {},
   "source": [
    "LEETCODE PROBLEM NUMBER \"8\" STRING TO INTEGER (A TO I)"
   ]
  },
  {
   "cell_type": "code",
   "execution_count": 16,
   "id": "73415896",
   "metadata": {},
   "outputs": [
    {
     "name": "stdout",
     "output_type": "stream",
     "text": [
      "1337\n"
     ]
    }
   ],
   "source": [
    "def atoi(s):\n",
    "    s = s.strip()\n",
    "    sign = 1\n",
    "    if len(s) == 0:\n",
    "        return 0\n",
    "    # Handle the sign\n",
    "    if s[0] == '-':\n",
    "        sign = -1\n",
    "        s = s[1:]\n",
    "    elif s[0] == '+':\n",
    "        s = s[1:]\n",
    "    # Conversion\n",
    "    result = 0\n",
    "    for i in s:\n",
    "        if i.isdigit():\n",
    "            digit = int(i)\n",
    "            result = result * 10 + digit\n",
    "        else:\n",
    "            break\n",
    "        result = result * sign\n",
    "        mini = -2**31\n",
    "        maxi = 2**31 - 1\n",
    "        if result > maxi:\n",
    "            return maxi\n",
    "        elif result < mini:\n",
    "            return mini\n",
    "        else:\n",
    "            return result\n",
    "solution = Solution()\n",
    "print(solution.myAtoi(\"1337c0d3\"))  \n"
   ]
  },
  {
   "cell_type": "markdown",
   "id": "615dcb92",
   "metadata": {},
   "source": [
    "LEETCODE PROBLEM NUMBER \"13\" ROMAN TO INTEGER"
   ]
  },
  {
   "cell_type": "code",
   "execution_count": 28,
   "id": "ab8c8daf",
   "metadata": {},
   "outputs": [
    {
     "data": {
      "text/plain": [
       "58"
      ]
     },
     "execution_count": 28,
     "metadata": {},
     "output_type": "execute_result"
    }
   ],
   "source": [
    "def romanToInt(s: str) -> int:\n",
    "    d = {\"M\": 1000, \"D\": 500, \"C\": 100, \"L\": 50, \"X\": 10, \"V\": 5, \"I\": 1}\n",
    "    ans = 0\n",
    "    for i in range(len(s)):\n",
    "        if i > 0 and d[s[i]] > d[s[i - 1]]:\n",
    "            ans -= 2 * d[s[i - 1]]\n",
    "        ans += d[s[i]]\n",
    "    return ans\n",
    "\n",
    "s = \"LVIII\"\n",
    "romanToInt(s)"
   ]
  },
  {
   "cell_type": "code",
   "execution_count": 38,
   "id": "2dafded2",
   "metadata": {},
   "outputs": [
    {
     "data": {
      "text/plain": [
       "58"
      ]
     },
     "execution_count": 38,
     "metadata": {},
     "output_type": "execute_result"
    }
   ],
   "source": [
    "def romanToInt(s: str) -> int:\n",
    "    d = {\"M\": 1000, \"D\": 500, \"C\": 100, \"L\": 50, \"X\": 10, \"V\": 5, \"I\": 1}\n",
    "    ans = 0\n",
    "    for i in range(len(s)):\n",
    "        cval = d[s[i]]\n",
    "        nval = d[s[i+1]] if i+1<len(s) else 0\n",
    "        if cval >= nval:\n",
    "            ans = ans + cval\n",
    "        else:\n",
    "            ans = ans + nval\n",
    "    return ans\n",
    "\n",
    "s = \"LVIII\"\n",
    "romanToInt(s)"
   ]
  },
  {
   "cell_type": "code",
   "execution_count": 39,
   "id": "bb578f94",
   "metadata": {},
   "outputs": [],
   "source": [
    "def randomize(arr):\n",
    "    import random as rd \n",
    "    rd.shuffle(arr)\n",
    "    return arr"
   ]
  },
  {
   "cell_type": "code",
   "execution_count": 40,
   "id": "69e1d46e",
   "metadata": {},
   "outputs": [
    {
     "data": {
      "text/plain": [
       "[3, 12, 8, 6, 4]"
      ]
     },
     "execution_count": 40,
     "metadata": {},
     "output_type": "execute_result"
    }
   ],
   "source": [
    "randomize([3,6,12,4,8])"
   ]
  },
  {
   "cell_type": "markdown",
   "id": "28b50119",
   "metadata": {},
   "source": [
    "LEETCODE PROBLEM NUMBER \"28\" FIND THE INDEX OF FIRST OCCURANCE IN A STRING"
   ]
  },
  {
   "cell_type": "code",
   "execution_count": 4,
   "id": "498dbf22",
   "metadata": {},
   "outputs": [],
   "source": [
    "def substring(haystack,needle):\n",
    "    return haystack.find(needle)\n"
   ]
  },
  {
   "cell_type": "markdown",
   "id": "9f5486bc",
   "metadata": {},
   "source": [
    "LEETCODE PROBLEM NUMBER \"1\" TWO SUM"
   ]
  },
  {
   "cell_type": "code",
   "execution_count": 5,
   "id": "7d62c92a",
   "metadata": {},
   "outputs": [],
   "source": [
    "def twosum(arr,target):\n",
    "    for i in range(len(arr)):\n",
    "        for j in range(i+1,len(arr)):\n",
    "            if arr[i]+arr[j] == target:\n",
    "                return [i,j]"
   ]
  },
  {
   "cell_type": "markdown",
   "id": "aeb8396c",
   "metadata": {},
   "source": [
    "Tax Calculator:\n",
    "- Sal 0 to 5000,apply no tax, no convenience fee \n",
    "- Sal 5001 to 10000,apply 5% tax, convenience fee = 10\n",
    "- Sal 10001 to 50000,apply 10% tax, convenience fee = 100\n",
    "- Sal 50001 to 1Lakh,apply 15% tax, convenience fee = 150\n",
    "- Sal 1Lakh to 50lakh,apply 20% tax, convenience fee = 600\n",
    "- More than 50Lakhs,salary limit exceeded\n",
    "- Return -1, if salary is less than 0\n",
    "- Return final salary"
   ]
  },
  {
   "cell_type": "code",
   "execution_count": 1,
   "id": "4814decc",
   "metadata": {},
   "outputs": [
    {
     "name": "stdout",
     "output_type": "stream",
     "text": [
      "Enter the salary: 10000\n",
      "9490.0\n"
     ]
    }
   ],
   "source": [
    "def calculate_final_salary(salary):\n",
    "    if salary < 0:\n",
    "        return -1\n",
    "    tax = 0\n",
    "    convenience_fee = 0\n",
    "    if salary <= 5000:\n",
    "        tax = 0\n",
    "        convenience_fee = 0\n",
    "    elif 5001 <= salary <= 10000:\n",
    "        tax = 0.05 * salary\n",
    "        convenience_fee = 10\n",
    "    elif 10001 <= salary <= 50000:\n",
    "        tax = 0.10 * salary\n",
    "        convenience_fee = 100\n",
    "    elif 50001 <= salary <= 100000:\n",
    "        tax = 0.15 * salary\n",
    "        convenience_fee = 150\n",
    "    elif 100001 <= salary <= 5000000:\n",
    "        tax = 0.20 * salary\n",
    "        convenience_fee = 600\n",
    "    else:\n",
    "        return \"Salary limit exceeded\"\n",
    "    final_salary = salary - (tax + convenience_fee)\n",
    "    return final_salary\n",
    "salary = float(input(\"Enter the salary: \"))\n",
    "result = calculate_final_salary(salary)\n",
    "print(result)"
   ]
  },
  {
   "cell_type": "markdown",
   "id": "8114919e",
   "metadata": {},
   "source": [
    "LEETCODE PROBLRM NUMBER \"26\" REMOVE DUPLICATES FROM STORTED ARRAY"
   ]
  },
  {
   "cell_type": "code",
   "execution_count": 9,
   "id": "a68eb7bc",
   "metadata": {},
   "outputs": [
    {
     "data": {
      "text/plain": [
       "2"
      ]
     },
     "execution_count": 9,
     "metadata": {},
     "output_type": "execute_result"
    }
   ],
   "source": [
    "def removeDupli(nums):\n",
    "    i = 0\n",
    "    for num in nums:\n",
    "      if i < 1 or num > nums[i - 1]:\n",
    "        nums[i] = num\n",
    "        i += 1\n",
    "\n",
    "    return i\n",
    "nums = [1,1,2]\n",
    "removeDupli(nums)"
   ]
  },
  {
   "cell_type": "code",
   "execution_count": 10,
   "id": "3b9675a6",
   "metadata": {},
   "outputs": [],
   "source": [
    "def dupli(nums):\n",
    "    ind = 0\n",
    "    for i in range(1,len(nums)):\n",
    "        if nums[ind]!=nums[i]:\n",
    "            ind = ind+1\n",
    "            nums[ind] = nums[i]\n",
    "            return ind+1"
   ]
  },
  {
   "cell_type": "code",
   "execution_count": 11,
   "id": "ec8c27be",
   "metadata": {},
   "outputs": [
    {
     "data": {
      "text/plain": [
       "2"
      ]
     },
     "execution_count": 11,
     "metadata": {},
     "output_type": "execute_result"
    }
   ],
   "source": [
    "nums = [1,1,2]\n",
    "dupli(nums)"
   ]
  },
  {
   "cell_type": "markdown",
   "id": "a6e7c01a",
   "metadata": {},
   "source": [
    "CLIMBING STAIRS\n",
    " you are climbing a stair case,and it takes n steps to reach the top.\n",
    " each time you can either climb 1 or 2 steps.\n",
    " In how many distinct ways can you climb to the top?"
   ]
  },
  {
   "cell_type": "code",
   "execution_count": null,
   "id": "d629e427",
   "metadata": {},
   "outputs": [],
   "source": [
    "def "
   ]
  }
 ],
 "metadata": {
  "kernelspec": {
   "display_name": "Python 3 (ipykernel)",
   "language": "python",
   "name": "python3"
  },
  "language_info": {
   "codemirror_mode": {
    "name": "ipython",
    "version": 3
   },
   "file_extension": ".py",
   "mimetype": "text/x-python",
   "name": "python",
   "nbconvert_exporter": "python",
   "pygments_lexer": "ipython3",
   "version": "3.9.13"
  }
 },
 "nbformat": 4,
 "nbformat_minor": 5
}
