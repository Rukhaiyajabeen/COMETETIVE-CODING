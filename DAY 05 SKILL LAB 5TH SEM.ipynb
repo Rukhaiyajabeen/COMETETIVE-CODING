{
 "cells": [
  {
   "cell_type": "markdown",
   "id": "e1737ffa-f3aa-419e-a5eb-bc4f9cfa5916",
   "metadata": {},
   "source": [
    "LEETCODE PROBLEM NUMBER \"349\" INTERSECTION OF TWO ARRAYS"
   ]
  },
  {
   "cell_type": "code",
   "execution_count": 1,
   "id": "0e871f82-2e43-4442-94cb-ff9ec7dd5f2f",
   "metadata": {},
   "outputs": [
    {
     "name": "stdout",
     "output_type": "stream",
     "text": [
      "{2, 4, 5}\n"
     ]
    }
   ],
   "source": [
    "def intersection(arr1,arr2):\n",
    "    aset=set()\n",
    "    for i in arr1:\n",
    "        if i in arr2:\n",
    "            aset.add(i)\n",
    "    return aset\n",
    "arr1=[1,2,2,4,5]\n",
    "arr2=[2,5,6,4]\n",
    "print(intersection(arr1,arr2))"
   ]
  },
  {
   "cell_type": "markdown",
   "id": "da8fd8c9-c66a-4f3f-b8de-0e90ffda92d0",
   "metadata": {},
   "source": [
    "RAT COUNT HOUSE\n",
    "- The function accepts two positive integers 'r' and 'unit' and a positive integer array 'arr' of size 'n' as its argument 'r' represents the number of rats presernt in an area.\n",
    "- 'unit' is the amount of food each rat consumes and each the element of array 'arr' represents the amount of food present in 'i+1' house number,where 0<=i\n",
    "* Return -1 if the array is null\n",
    "* Return 0 if the total amount of food all houses is not sufficient for all the rats.\n",
    "* computed values lie within the integer range."
   ]
  },
  {
   "cell_type": "code",
   "execution_count": 25,
   "id": "d571ae3b-ae40-4c37-892b-4d7623af8818",
   "metadata": {},
   "outputs": [
    {
     "name": "stdout",
     "output_type": "stream",
     "text": [
      "5\n"
     ]
    }
   ],
   "source": [
    "def housecount(r,unit,n,arr):\n",
    "    if n==0:\n",
    "        return -1\n",
    "    food_req = r * units\n",
    "    food_taken = 0\n",
    "    house = 0\n",
    "    for i in arr:\n",
    "        food_taken = food_taken + i\n",
    "        house = house + 1\n",
    "        if food_taken >= food_req:\n",
    "            break\n",
    "    if sum(arr) <= food_req:\n",
    "        return 0\n",
    "    return house\n",
    "r = 7\n",
    "units = 3\n",
    "n = 6\n",
    "arr = [2,8,3,5,7,4]\n",
    "print(housecount(r,units,n,arr))"
   ]
  },
  {
   "cell_type": "code",
   "execution_count": 29,
   "id": "3b687df6-16bd-45b0-ac89-ae50236a7f9f",
   "metadata": {},
   "outputs": [],
   "source": [
    "def ratcount(r,units,arr,n):\n",
    "    if n==0:\n",
    "        return -1\n",
    "        foodstole = 0\n",
    "        total =r*units\n",
    "        for i in range(n):\n",
    "            foodstole = foodstole + arr[i]\n",
    "            if foodstole>=total:\n",
    "                break\n",
    "                if sum(arr) < total:\n",
    "                    return 0\n",
    "                    return i+1"
   ]
  },
  {
   "cell_type": "markdown",
   "id": "00ae6706-4b09-4ecc-a766-ef6e187568ef",
   "metadata": {},
   "source": [
    "FACTOR OF NUMBER"
   ]
  },
  {
   "cell_type": "code",
   "execution_count": 43,
   "id": "46874830-1d2e-4011-a648-e5d39fbd5a28",
   "metadata": {},
   "outputs": [
    {
     "name": "stdout",
     "output_type": "stream",
     "text": [
      "[1, 2, 3, 4, 6, 12]\n"
     ]
    }
   ],
   "source": [
    "def factorNum(num):\n",
    "    l1 = []\n",
    "    for i in range(1, num + 1):\n",
    "        if num % i == 0:\n",
    "            l1.append(i)\n",
    "    return l1\n",
    "\n",
    "num = 12\n",
    "print(factorNum(num))"
   ]
  },
  {
   "cell_type": "code",
   "execution_count": 53,
   "id": "ec3a52fe-373f-438b-8668-d5590b7b1167",
   "metadata": {},
   "outputs": [
    {
     "data": {
      "text/plain": [
       "[1, 2, 3, 4, 6, 12]"
      ]
     },
     "execution_count": 53,
     "metadata": {},
     "output_type": "execute_result"
    }
   ],
   "source": [
    "def factorNum(num):\n",
    "    if num <= 0:\n",
    "        return 0\n",
    "    l1 = [ i for i in range(1 ,num+1) if num % i == 0]\n",
    "    return l1\n",
    "\n",
    "num = 12\n",
    "factorNum(num)"
   ]
  },
  {
   "cell_type": "markdown",
   "id": "2f2b56a4-bb05-4225-b90a-11146f4c7027",
   "metadata": {},
   "source": [
    "REVERSING A STRING USING STACK"
   ]
  },
  {
   "cell_type": "code",
   "execution_count": 51,
   "id": "f8f11a23-3543-4f35-bdd5-5b36565cf003",
   "metadata": {},
   "outputs": [
    {
     "data": {
      "text/plain": [
       "'llik'"
      ]
     },
     "execution_count": 51,
     "metadata": {},
     "output_type": "execute_result"
    }
   ],
   "source": [
    "class mystack:\n",
    "    def __init__(self):\n",
    "        self.st = []\n",
    "    def revstr(self,mystr):\n",
    "        result = ''\n",
    "        for i in mystr:\n",
    "            self.st.append(i)\n",
    "        for i in range(len(self.st)):\n",
    "            popped = self.st.pop()\n",
    "            result = result + popped\n",
    "        return result\n",
    "\n",
    "B = mystack()\n",
    "B.revstr(\"kill\")"
   ]
  },
  {
   "cell_type": "markdown",
   "id": "d7b15ae4-0b07-4f0e-b2d0-02027dd25e8e",
   "metadata": {},
   "source": [
    "NUMBER OF STARS OF MISSING NUMBERS"
   ]
  },
  {
   "cell_type": "code",
   "execution_count": 1,
   "id": "9cac834d-6497-4146-9dc5-c1435c880d1c",
   "metadata": {},
   "outputs": [
    {
     "data": {
      "text/plain": [
       "'*********'"
      ]
     },
     "execution_count": 1,
     "metadata": {},
     "output_type": "execute_result"
    }
   ],
   "source": [
    "def missing_number(arr):\n",
    "    for i in range(1, len(arr) + 1):\n",
    "        if i not in arr:\n",
    "            return i*'*'\n",
    "\n",
    "arr = [1, 2, 3, 4, 5, 6, 7, 8, 10]  \n",
    "missing_number(arr)"
   ]
  },
  {
   "cell_type": "markdown",
   "id": "44608cf8-2f16-4ab3-b5b5-2703bef840ed",
   "metadata": {},
   "source": [
    "LEETCODE PROBLEM NUMBER \"171\" EXCEL SHEET COLUMN NUMBER "
   ]
  },
  {
   "cell_type": "code",
   "execution_count": 61,
   "id": "5a23c96b-48f6-4df8-b769-d561ae8f142f",
   "metadata": {},
   "outputs": [
    {
     "data": {
      "text/plain": [
       "65"
      ]
     },
     "execution_count": 61,
     "metadata": {},
     "output_type": "execute_result"
    }
   ],
   "source": [
    "ord('A')"
   ]
  },
  {
   "cell_type": "code",
   "execution_count": 67,
   "id": "9806335b-4c70-4c77-b53a-67f6c037506d",
   "metadata": {},
   "outputs": [
    {
     "data": {
      "text/plain": [
       "40"
      ]
     },
     "execution_count": 67,
     "metadata": {},
     "output_type": "execute_result"
    }
   ],
   "source": [
    "def col(name):\n",
    "    a = 0\n",
    "    for i in name:\n",
    "        a = a*26 + ord(i) - 64\n",
    "    return a\n",
    "\n",
    "col('EE')\n",
    "col('AN')"
   ]
  },
  {
   "cell_type": "markdown",
   "id": "45a5ed2b-e333-4e1c-a992-df62c0cfd16c",
   "metadata": {},
   "source": [
    "DEMONSTRATE ATM FUNCTIONS\n",
    "GET THE NAME, FETCH THE PIN FROM DICTIONARY, IF PIN MATCHES PROCEED OR ELSE \"INVALID PIN\"\n",
    "- OPTION 1:WITHDRAWAL\n",
    "- OPTION 2:DEPOSITE\n",
    "- OPTION 3:BALANCE ENQUIRY\n",
    "- OPTION 4:OFFERS ON FD\n",
    "- OPTION 5:QUIT"
   ]
  },
  {
   "cell_type": "code",
   "execution_count": 1,
   "id": "4e456ee0-ccbf-4d1f-bb4b-521f9a11ece0",
   "metadata": {},
   "outputs": [],
   "source": [
    " def atm():\n",
    "    pins = {\"RM\":5544,\"JIN\":6633,\"YOONGIYA\":8373,\"JHOPE\":3344}\n",
    "    bals = {\"RM\":10000,\"JIM\":20000,\"YOONGIYA\":30000,\"JHOPE\":40000}\n",
    "    name=input(\"Enter your name:\")\n",
    "    pin = int(input(\"Enter your atm pin\"))\n",
    "    if pin != pins[name]:\n",
    "        print(\"invlid pin\")\n",
    "        exit(0)\n",
    "    while True:\n",
    "        print(\"1.Withdraw\\n2.Deposite\\n3.Balance Enquiry\\n4.Offers on FD\\n5.Change ATM pin\\n6.Quit\\n\")\n",
    "        choice = int(input(\"Enter your choice:\"))\n",
    "        if choice == 1:\n",
    "            amt = int(input(\"Enter the amount:\"))\n",
    "            w = withdraw(amt,bals,name)\n",
    "            print(\"The current balance is:\",w)\n",
    "        elif choice == 2:\n",
    "            amt = int(input(\"Enter the amount:\"))\n",
    "            dep = deposit(amt,bals,name)\n",
    "            print(\"The current balance is:\",dep)\n",
    "        elif choice == 3:\n",
    "            balance_enq(bals,name)\n",
    "        elif choice == 4:\n",
    "            offer_fd()\n",
    "        elif choice == 5:\n",
    "            changepin(pins[name],pins,name)\n",
    "        elif choice == 6:\n",
    "            break\n",
    "        else:\n",
    "            print(\"Enter valid choice\")"
   ]
  },
  {
   "cell_type": "code",
   "execution_count": 2,
   "id": "7e9e55ee",
   "metadata": {},
   "outputs": [],
   "source": [
    "def withdraw(amount,bals,name):\n",
    "    if amount > bals[name]:\n",
    "        return \"Amount exceeded than the limit\"\n",
    "    else:\n",
    "        bals[name] = bals[name] - amount\n",
    "    return bals[name]\n",
    "def deposit(amount,bals,name):\n",
    "    bals[name] = bals[name] + amount\n",
    "    return bals[name]\n",
    "def balance_enq(bals,name):\n",
    "    print(\"The remaining balance is\",bals[name],\"\\n\\n\")\n",
    "def offer_fd():\n",
    "    print(\"if you start apply for a new load youll be getting 2% less interest on it\\n\")\n",
    "def changepin(pin,pins,name):\n",
    "    oldpin = int(input(\"Enter your old pin:\"))\n",
    "    if oldpin == pin:\n",
    "        print(\"Enter your new pin:\")\n",
    "        newpin = int(input())\n",
    "        pins[name] = newpin\n",
    "        print(\"The pin is updated\")"
   ]
  },
  {
   "cell_type": "code",
   "execution_count": 3,
   "id": "66ad257e-a290-4e19-af8c-4901cdb7769f",
   "metadata": {},
   "outputs": [
    {
     "name": "stdout",
     "output_type": "stream",
     "text": [
      "Enter your name:RM\n",
      "Enter your atm pin5544\n",
      "1.Withdraw\n",
      "2.Deposite\n",
      "3.Balance Enquiry\n",
      "4.Offers on FD\n",
      "5.Change ATM pin\n",
      "6.Quit\n",
      "\n",
      "Enter your choice:1\n",
      "Enter the amount:5000\n",
      "The current balance is: 5000\n",
      "1.Withdraw\n",
      "2.Deposite\n",
      "3.Balance Enquiry\n",
      "4.Offers on FD\n",
      "5.Change ATM pin\n",
      "6.Quit\n",
      "\n",
      "Enter your choice:2\n",
      "Enter the amount:3000\n",
      "The current balance is: 8000\n",
      "1.Withdraw\n",
      "2.Deposite\n",
      "3.Balance Enquiry\n",
      "4.Offers on FD\n",
      "5.Change ATM pin\n",
      "6.Quit\n",
      "\n",
      "Enter your choice:3\n",
      "The remaining balance is 8000 \n",
      "\n",
      "\n",
      "1.Withdraw\n",
      "2.Deposite\n",
      "3.Balance Enquiry\n",
      "4.Offers on FD\n",
      "5.Change ATM pin\n",
      "6.Quit\n",
      "\n",
      "Enter your choice:4\n",
      "if you start apply for a new load youll be getting 2% less interest on it\n",
      "\n",
      "1.Withdraw\n",
      "2.Deposite\n",
      "3.Balance Enquiry\n",
      "4.Offers on FD\n",
      "5.Change ATM pin\n",
      "6.Quit\n",
      "\n",
      "Enter your choice:5\n",
      "Enter your old pin:5544\n",
      "Enter your new pin:\n",
      "7788\n",
      "The pin is updated\n",
      "1.Withdraw\n",
      "2.Deposite\n",
      "3.Balance Enquiry\n",
      "4.Offers on FD\n",
      "5.Change ATM pin\n",
      "6.Quit\n",
      "\n",
      "Enter your choice:6\n"
     ]
    }
   ],
   "source": [
    "atm()"
   ]
  },
  {
   "cell_type": "markdown",
   "id": "8a93bec2",
   "metadata": {},
   "source": [
    "REMOVING NTH NODE FROM THE LINKED LIST FROM THE REVERSE"
   ]
  },
  {
   "cell_type": "code",
   "execution_count": 10,
   "id": "0dc27822",
   "metadata": {},
   "outputs": [],
   "source": [
    "class LinkedList:\n",
    "    class Node:\n",
    "        def __init__(self,data):\n",
    "            self.data = data\n",
    "            self.next = None\n",
    "    def __init__(self):\n",
    "        self.head = None\n",
    "    def insertbeg(self,data):\n",
    "        newnode = LinkedList.Node(data)\n",
    "        newnode.next = self.head\n",
    "        self.head = newnode\n",
    "    def traverse(self):\n",
    "        cur = self.head\n",
    "        while cur:\n",
    "            print(cur.data,end = '-->')\n",
    "            cur = cur.next\n",
    "        print(None)\n",
    "    def nodefromrev(self,n):\n",
    "        count = 0\n",
    "        cur = self.head\n",
    "        while cur:\n",
    "            count = count + 1\n",
    "            cur = cur.next\n",
    "        if count == n:\n",
    "            return self.head.next\n",
    "        ptr1 = self.head\n",
    "        for _ in range(count-n-1):\n",
    "            ptr1 = ptr1.next\n",
    "        ptr1.next = ptr1.next.next\n",
    "        "
   ]
  },
  {
   "cell_type": "code",
   "execution_count": 11,
   "id": "18a524cf",
   "metadata": {},
   "outputs": [
    {
     "name": "stdout",
     "output_type": "stream",
     "text": [
      "7-->6-->4-->71-->93-->86-->None\n"
     ]
    }
   ],
   "source": [
    "rev = LinkedList()\n",
    "rev.insertbeg(86)\n",
    "rev.insertbeg(93)\n",
    "rev.insertbeg(71)\n",
    "rev.insertbeg(4)\n",
    "rev.insertbeg(6)\n",
    "rev.insertbeg(7)\n",
    "rev.traverse()"
   ]
  },
  {
   "cell_type": "code",
   "execution_count": 12,
   "id": "26e89eb5",
   "metadata": {},
   "outputs": [
    {
     "name": "stdout",
     "output_type": "stream",
     "text": [
      "7-->4-->71-->93-->86-->None\n"
     ]
    }
   ],
   "source": [
    "rev.nodefromrev(5)\n",
    "rev.traverse()"
   ]
  }
 ],
 "metadata": {
  "kernelspec": {
   "display_name": "Python 3 (ipykernel)",
   "language": "python",
   "name": "python3"
  },
  "language_info": {
   "codemirror_mode": {
    "name": "ipython",
    "version": 3
   },
   "file_extension": ".py",
   "mimetype": "text/x-python",
   "name": "python",
   "nbconvert_exporter": "python",
   "pygments_lexer": "ipython3",
   "version": "3.9.13"
  }
 },
 "nbformat": 4,
 "nbformat_minor": 5
}
