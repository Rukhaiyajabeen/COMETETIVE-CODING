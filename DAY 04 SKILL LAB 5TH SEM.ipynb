{
 "cells": [
  {
   "cell_type": "markdown",
   "id": "dbaabf33-c5a7-473c-987f-bda2fb6d05aa",
   "metadata": {},
   "source": [
    "LINKED LIST \n",
    "-Linked List is basically chains of nodes where each node contains information such as data and a pointer to the next node in the chain.\n",
    "-Basic Terminologies of Linked List\n",
    "*Head: The Head of a linked list is a pointer to the first node or reference of the first node of linked list. This pointer marks the beginning of the linked list.\n",
    "*Node: Linked List consists of a series of nodes where each node has two parts: data and next pointer.\n",
    "*Data: Data is the part of node which stores the information in the linked list.\n",
    "*Next pointer: Next pointer is the part of the node which points to the next node of the linked list."
   ]
  },
  {
   "cell_type": "code",
   "execution_count": 22,
   "id": "6ba8f9c7-8362-4643-ba5b-beb0358c8d36",
   "metadata": {},
   "outputs": [],
   "source": [
    "class LinkedList:\n",
    "    class Node:\n",
    "        def __init__(self,data):\n",
    "            self.data = data\n",
    "            self.next = None\n",
    "    def __init__(self):\n",
    "        self.head = None\n",
    "    def insertbeg(self,data):\n",
    "        newnode = LinkedList.Node(data)\n",
    "        newnode.next = self.head\n",
    "        self.head = newnode\n",
    "    def insertend(self,data):\n",
    "        newnode = LinkedList.Node(data)\n",
    "        cur = self.head\n",
    "        while cur.next:\n",
    "            cur = cur.next\n",
    "        cur.next = newnode\n",
    "    def printlist(self):\n",
    "        cur = self.head\n",
    "        while cur:\n",
    "            print(cur.data,end = '-->')\n",
    "            cur = cur.next\n",
    "        print(None)\n",
    "    def delbynode(self,val):\n",
    "        if self.head==None:\n",
    "            print(\"List is empty\")\n",
    "        cur=self.head\n",
    "        while cur.next:\n",
    "            if cur.next.data==val:\n",
    "                break\n",
    "            cur=cur.next\n",
    "        if cur.next==None:\n",
    "            print(\"Node doesn't exists\")\n",
    "        else:\n",
    "            cur.next=cur.next.next\n",
    "    def hascycle(self):             #Floyd Maarshall\n",
    "        t, r = self.head,self.head\n",
    "        while r and r.next:\n",
    "            t = t.next\n",
    "            r = r.next.next\n",
    "            if r==t :\n",
    "                return \"cycle found\"\n",
    "        return \"No cycle\"\n",
    "    def reverseList(self,head):\n",
    "        prev = None\n",
    "        current = self.head\n",
    "        while current:\n",
    "            next = current.next\n",
    "            current.next = prev \n",
    "            prev = current \n",
    "            current = next\n",
    "        self.head = prev\n",
    "        return prev"
   ]
  },
  {
   "cell_type": "code",
   "execution_count": 26,
   "id": "89a708cd-88d8-4928-ab83-fd813fe9696d",
   "metadata": {},
   "outputs": [
    {
     "name": "stdout",
     "output_type": "stream",
     "text": [
      "19-->25-->35-->42-->59-->None\n"
     ]
    }
   ],
   "source": [
    "ll=LinkedList()\n",
    "ll.insertbeg(35)\n",
    "ll.insertend(42)\n",
    "ll.insertend(59)\n",
    "ll.insertbeg(25)\n",
    "ll.insertbeg(19)\n",
    "ll.printlist()"
   ]
  },
  {
   "cell_type": "code",
   "execution_count": 28,
   "id": "7d218506-30bb-487f-bc76-3387c3d1b0df",
   "metadata": {},
   "outputs": [
    {
     "name": "stdout",
     "output_type": "stream",
     "text": [
      "19-->25-->35-->59-->None\n"
     ]
    }
   ],
   "source": [
    "ll.delbynode(42)\n",
    "ll.printlist()"
   ]
  },
  {
   "cell_type": "code",
   "execution_count": 30,
   "id": "172f2c0d-cfdd-43c1-b059-7b9ff1140e28",
   "metadata": {},
   "outputs": [
    {
     "data": {
      "text/plain": [
       "'No cycle'"
      ]
     },
     "execution_count": 30,
     "metadata": {},
     "output_type": "execute_result"
    }
   ],
   "source": [
    "ll.hascycle()"
   ]
  },
  {
   "cell_type": "code",
   "execution_count": 32,
   "id": "ee4a6a99-c4f5-4ba9-a289-f45f00f84e16",
   "metadata": {},
   "outputs": [
    {
     "name": "stdout",
     "output_type": "stream",
     "text": [
      "59-->35-->25-->19-->None\n"
     ]
    }
   ],
   "source": [
    "ll.reverseList(19)\n",
    "ll.printlist()"
   ]
  },
  {
   "cell_type": "code",
   "execution_count": null,
   "id": "213449e5",
   "metadata": {},
   "outputs": [],
   "source": [
    "def merge(self,l1,l2):\n",
    "    dummy = Node(0)\n",
    "    curr = dummy\n",
    "    while l1 and l2:\n",
    "        if l1.val < l2.val:\n",
    "            curr.next = l1\n",
    "            l1 = l1.next\n",
    "        else:\n",
    "            curr.next = l2\n",
    "            l2 = l2.next\n",
    "        curr = curr.next\n",
    "    if l1:\n",
    "        curr.next = l1\n",
    "    elif l2:\n",
    "        curr.next = l2\n",
    "    return dummy.next"
   ]
  },
  {
   "cell_type": "markdown",
   "id": "7a49ca83",
   "metadata": {},
   "source": [
    "SUM DIVISIBLE BY 3 AND 5"
   ]
  },
  {
   "cell_type": "markdown",
   "id": "09c153c3",
   "metadata": {},
   "source": [
    "The function accepts 2 positive integer 'm' and 'n' as its arguments.you are required to calculate the sum of numbers divisible both by 3 and 5,between 'm' and 'n' both inclusive and return the same."
   ]
  },
  {
   "cell_type": "code",
   "execution_count": 4,
   "id": "cd1bc9f7",
   "metadata": {},
   "outputs": [
    {
     "data": {
      "text/plain": [
       "150"
      ]
     },
     "execution_count": 4,
     "metadata": {},
     "output_type": "execute_result"
    }
   ],
   "source": [
    "def sum_divi(m, n):\n",
    "    total = 0\n",
    "    for num in range(m,n + 1):\n",
    "        if num % 3 == 0 and num % 5 == 0:\n",
    "            total = total + num\n",
    "    return total\n",
    "\n",
    "m = 2\n",
    "n = 60\n",
    "sum_divi(m,n)"
   ]
  },
  {
   "cell_type": "markdown",
   "id": "54b27a56",
   "metadata": {},
   "source": [
    "LEETCODE PROBLEM NUMBER \"2\" ADD TWO NUMBERS"
   ]
  },
  {
   "cell_type": "code",
   "execution_count": 7,
   "id": "51f712e8",
   "metadata": {},
   "outputs": [],
   "source": [
    "def add(l1,l2):\n",
    "    dummy = ListNode(0)\n",
    "    cur = dummy\n",
    "    carry = 0\n",
    "    while carry or l1 or l2:\n",
    "        if l1:\n",
    "            carry += l1.val\n",
    "            l1 = l1.next\n",
    "        if l2:\n",
    "            carry += l2.val\n",
    "            l2 = l2.next\n",
    "        cur.next = ListNode (carry%10)\n",
    "        carry//=10\n",
    "        cur = cur.next\n",
    "    return dummy.next"
   ]
  },
  {
   "cell_type": "code",
   "execution_count": 8,
   "id": "e79bf43f",
   "metadata": {},
   "outputs": [],
   "source": [
    "def add(l1,l2):\n",
    "    dummy = ListNode(0)\n",
    "    cur = dummy\n",
    "    while l1 or l2 or carry:\n",
    "        val1 = l1.val if l1 else 0\n",
    "        val1 = l2.val if l2 else 0\n",
    "        total = val1 + val2 + carry\n",
    "        carry = total//10\n",
    "        element = total%10\n",
    "        newnode = ListNode(element)\n",
    "        cur.next = newnode\n",
    "        cur = cur.next\n",
    "        l1 = l1.next if l1 else 0\n",
    "        l2 = l2.next if l2 else 0\n",
    "    return dummy.next"
   ]
  },
  {
   "cell_type": "markdown",
   "id": "72b22167",
   "metadata": {},
   "source": [
    "LEETCODE PROBLEM NUMBER \"53\" MAXIMUM SUM OF SUB ARRAY"
   ]
  },
  {
   "cell_type": "code",
   "execution_count": 14,
   "id": "438ed365",
   "metadata": {},
   "outputs": [],
   "source": [
    "def maxsum(arr):\n",
    "    c = arr[0]\n",
    "    g = arr[0]\n",
    "    for i in range(1,len(arr)):\n",
    "        c = max(arr[i] , c+arr[i])\n",
    "        g = max(c,g)\n",
    "    return g\n",
    "        "
   ]
  },
  {
   "cell_type": "code",
   "execution_count": 16,
   "id": "2cc00e01",
   "metadata": {},
   "outputs": [
    {
     "data": {
      "text/plain": [
       "9"
      ]
     },
     "execution_count": 16,
     "metadata": {},
     "output_type": "execute_result"
    }
   ],
   "source": [
    "maxsum([-3,-7,5,4])"
   ]
  },
  {
   "cell_type": "markdown",
   "id": "8944ec2f",
   "metadata": {},
   "source": [
    "IMPLEMENTING QUEUE USING STACKS"
   ]
  },
  {
   "cell_type": "code",
   "execution_count": 26,
   "id": "c02ec7e3",
   "metadata": {},
   "outputs": [],
   "source": [
    "class stack:\n",
    "    def __init__(self):\n",
    "        self.s1 = []\n",
    "        self.temp = []\n",
    "    def push(self,val):\n",
    "        while self.s1:\n",
    "            popped = self.s1.pop()\n",
    "            self.temp.append(popped)\n",
    "        self.s1.append(val)\n",
    "        while self.temp:\n",
    "            popped = self.temp.pop()\n",
    "            self.s1.append(popped)\n",
    "    def pop(self):\n",
    "        return self.s1.pop() if self.s1 else \"No elements\"\n",
    "    def peek(self):\n",
    "        return self.s1[-1] if self.s1 else \"No elements\"\n",
    "    def empty(self):\n",
    "        return len(self.s1) == 0\n",
    "        "
   ]
  },
  {
   "cell_type": "code",
   "execution_count": 28,
   "id": "4195e07d",
   "metadata": {},
   "outputs": [
    {
     "data": {
      "text/plain": [
       "70"
      ]
     },
     "execution_count": 28,
     "metadata": {},
     "output_type": "execute_result"
    }
   ],
   "source": [
    "s = stack()\n",
    "s.push(70)\n",
    "s.push(40)\n",
    "s.push(10)\n",
    "s.pop()"
   ]
  },
  {
   "cell_type": "code",
   "execution_count": null,
   "id": "35cf60aa",
   "metadata": {},
   "outputs": [],
   "source": []
  }
 ],
 "metadata": {
  "kernelspec": {
   "display_name": "Python 3 (ipykernel)",
   "language": "python",
   "name": "python3"
  },
  "language_info": {
   "codemirror_mode": {
    "name": "ipython",
    "version": 3
   },
   "file_extension": ".py",
   "mimetype": "text/x-python",
   "name": "python",
   "nbconvert_exporter": "python",
   "pygments_lexer": "ipython3",
   "version": "3.9.13"
  }
 },
 "nbformat": 4,
 "nbformat_minor": 5
}
